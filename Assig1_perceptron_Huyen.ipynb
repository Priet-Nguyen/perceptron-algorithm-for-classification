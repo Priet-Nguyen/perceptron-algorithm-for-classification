{
 "cells": [
  {
   "cell_type": "code",
   "execution_count": null,
   "metadata": {
    "id": "S_IFzL5DOWxg"
   },
   "outputs": [],
   "source": [
    "import numpy as np\n",
    "from sklearn.datasets import make_blobs\n",
    "import matplotlib.pyplot as plt"
   ]
  },
  {
   "cell_type": "markdown",
   "metadata": {
    "id": "HZd25fdYOWxh"
   },
   "source": [
    "### Problem 1\n",
    "Let the points $x_1 = (1, 2), x_2 = (3, 2), x_3 = (2, 1)$ and $x_4 = (3, 3)$, where $x_1$ and $x_3$ are\n",
    "labeled -1 and $𝑥_2$ and $x_4$ are labeled +1. Calculate the appropriate weights manually\n",
    "using the perceptron algorithm with $\\eta$ = 1. (Hint: The algorithm should update the\n",
    "weights nine times)."
   ]
  },
  {
   "cell_type": "code",
   "execution_count": null,
   "metadata": {
    "id": "x90PabJ8OWxi"
   },
   "outputs": [],
   "source": [
    "#import numpy as np\n",
    "def h(w, x, b):    \n",
    "    return np.sign(np.dot(x, w)+b)\n",
    "\n",
    "def check_converge(X, y, w, b):    \n",
    "    return np.array_equal(h(w, X, b), y)\n",
    "\n",
    "def perceptron(X, y, w, b, eta = 1):\n",
    "    #eta = 1 # learning rate\n",
    "    t = 0 # number of mistake\n",
    "    norms = []\n",
    "    lst_wb = []\n",
    "    for i in range(len(X)):\n",
    "        norms.append(np.linalg.norm(X[i]))\n",
    "    R2 = (max(norms))**2\n",
    "    while True:\n",
    "        for i in range(len(X)):\n",
    "            if h(w, X[i], b) != y[i]:\n",
    "                w_new = w + eta*y[i]*X[i]  #using w_new, b_new to avoid the the effect of pointer on list.append method\n",
    "                b_new = b + eta*y[i]*R2\n",
    "                t += 1 #counting mistakes\n",
    "                lst_wb.append([w_new,b_new])\n",
    "                w, b = w_new, b_new\n",
    "                #print(lst_wb, t)\n",
    "        if check_converge(X, y, w, b):\n",
    "            break\n",
    "    return (lst_wb, w, b, t)\n",
    "\n"
   ]
  },
  {
   "cell_type": "code",
   "execution_count": null,
   "metadata": {
    "id": "O29iilpiOWxi"
   },
   "outputs": [],
   "source": [
    "X = np.array([[1, 2], [3, 2], [2, 1], [3, 3]]) \n",
    "y = np.array([-1, 1, -1, 1])\n",
    "\n",
    "#w = np.array([0, 0]) # weights # this works also\n",
    "w = np.zeros((2,)) # feeding the size (2,1) does not work!\n",
    "b = 0 # bias\n",
    "(lst_wb, w, b, t) = perceptron(X, y, w, b, eta = 1)"
   ]
  },
  {
   "cell_type": "code",
   "execution_count": null,
   "metadata": {
    "id": "bI0TXxIxOWxi",
    "outputId": "e6c2863f-1d99-4511-d2f3-1fcde72ee714"
   },
   "outputs": [
    {
     "data": {
      "text/plain": [
       "[[array([-1., -2.]), -17.999999999999996],\n",
       " [array([2., 0.]), 0.0],\n",
       " [array([ 0., -1.]), -17.999999999999996],\n",
       " [array([3., 2.]), 0.0],\n",
       " [array([2., 0.]), -17.999999999999996],\n",
       " [array([5., 2.]), 0.0],\n",
       " [array([3., 1.]), -17.999999999999996],\n",
       " [array([6., 4.]), 0.0],\n",
       " [array([5., 2.]), -17.999999999999996]]"
      ]
     },
     "execution_count": 4,
     "metadata": {
      "tags": []
     },
     "output_type": "execute_result"
    }
   ],
   "source": [
    "lst_wb"
   ]
  },
  {
   "cell_type": "code",
   "execution_count": null,
   "metadata": {
    "id": "AlJqxUbAOWxk",
    "outputId": "02d35783-6bb8-4ef2-87c5-2ceea52e21f7"
   },
   "outputs": [
    {
     "data": {
      "text/plain": [
       "9"
      ]
     },
     "execution_count": 5,
     "metadata": {
      "tags": []
     },
     "output_type": "execute_result"
    }
   ],
   "source": [
    "t"
   ]
  },
  {
   "cell_type": "markdown",
   "metadata": {
    "id": "ble44RukOWxl"
   },
   "source": [
    "#### Problem 3\n",
    "Simulate data for two classes in a 2D feature space, classes should be linearly separable.\n",
    "Generate data in such a way, that there is a gap between the two classes. You can also\n",
    "use the “make_blobs” function from the sklearn.datasets module."
   ]
  },
  {
   "cell_type": "code",
   "execution_count": null,
   "metadata": {
    "id": "Dddr92mtOWxl"
   },
   "outputs": [],
   "source": [
    "#center_box: The bounding box for each cluster center when centers are generated at random. If this (min,max) is large,\n",
    "# the clusters tend to be far from each other\n",
    "X, y = make_blobs(n_samples=20, centers=2, n_features=2, center_box=(-100.0, 100.0), random_state=0)"
   ]
  },
  {
   "cell_type": "code",
   "execution_count": null,
   "metadata": {
    "id": "2uDvPXMWOWxl",
    "outputId": "187ccb06-bdba-4502-8f37-e2615127fec0"
   },
   "outputs": [
    {
     "data": {
      "text/plain": [
       "array([[10.62713698, 42.29570825],\n",
       "       [19.50412225,  7.55661866],\n",
       "       [10.07576849, 42.18377754],\n",
       "       [10.7127892 , 42.88651607],\n",
       "       [11.63025878, 42.06059539],\n",
       "       [10.20656402, 43.3715476 ],\n",
       "       [ 9.65948193, 43.44847178],\n",
       "       [20.70762264,  9.35479912],\n",
       "       [22.82242984,  7.52227092],\n",
       "       [ 7.20971097, 43.69149187],\n",
       "       [20.59843373,  8.78945275],\n",
       "       [19.66488947,  6.99584013],\n",
       "       [22.08545443, 10.44599537],\n",
       "       [ 9.90674436, 44.49214678],\n",
       "       [20.1653484 ,  8.67433385],\n",
       "       [21.7829659 , 10.17901645],\n",
       "       [20.20476307,  9.13298557],\n",
       "       [18.84640502, 10.92741199],\n",
       "       [11.25677986, 42.83271501],\n",
       "       [10.52373851, 43.15954829]])"
      ]
     },
     "execution_count": 7,
     "metadata": {
      "tags": []
     },
     "output_type": "execute_result"
    }
   ],
   "source": [
    "X"
   ]
  },
  {
   "cell_type": "code",
   "execution_count": null,
   "metadata": {
    "id": "QD3RUGJXOWxl",
    "outputId": "0bf11e02-512e-4505-97b4-4cf249415153"
   },
   "outputs": [
    {
     "data": {
      "text/plain": [
       "array([0, 1, 0, 0, 0, 0, 0, 1, 1, 0, 1, 1, 1, 0, 1, 1, 1, 1, 0, 0])"
      ]
     },
     "execution_count": 8,
     "metadata": {
      "tags": []
     },
     "output_type": "execute_result"
    }
   ],
   "source": [
    "y"
   ]
  },
  {
   "cell_type": "code",
   "execution_count": null,
   "metadata": {
    "id": "QIFvnrY7OWxm"
   },
   "outputs": [],
   "source": [
    "for i in range(len(y)):\n",
    "    if y[i]==0:\n",
    "        y[i]= -1"
   ]
  },
  {
   "cell_type": "code",
   "execution_count": null,
   "metadata": {
    "id": "G-OogEdQOWxm"
   },
   "outputs": [],
   "source": [
    "pos=[]\n",
    "neg=[]\n",
    "for i in range(len(y)):\n",
    "    if y[i]==1:\n",
    "        pos.append(i)\n",
    "    else:\n",
    "        neg.append(i)"
   ]
  },
  {
   "cell_type": "code",
   "execution_count": null,
   "metadata": {
    "id": "XivinpWBOWxm"
   },
   "outputs": [],
   "source": [
    "X_neg=X[neg]\n",
    "X_pos=X[pos]"
   ]
  },
  {
   "cell_type": "code",
   "execution_count": null,
   "metadata": {
    "id": "r87sb8APOWxm",
    "outputId": "50bcd2a5-96d2-474a-eaae-728dfc90868f"
   },
   "outputs": [
    {
     "data": {
      "text/plain": [
       "Text(0.5, 1.0, 'Generating data using make_blobs with margin 100')"
      ]
     },
     "execution_count": 12,
     "metadata": {
      "tags": []
     },
     "output_type": "execute_result"
    },
    {
     "data": {
      "image/png": "[encoded data removed]",
      "text/plain": [
       "<Figure size 432x288 with 1 Axes>"
      ]
     },
     "metadata": {
      "needs_background": "light",
      "tags": []
     },
     "output_type": "display_data"
    }
   ],
   "source": [
    "plt.scatter(X_neg[:,0], X_neg[:,1], c= \"blue\")\n",
    "plt.scatter(X_pos[:,0], X_pos[:,1], c= \"red\")\n",
    "plt.title('Generating data using make_blobs with margin 100')\n"
   ]
  },
  {
   "cell_type": "markdown",
   "metadata": {
    "id": "uG5yaX_GOWxm"
   },
   "source": [
    "### Problem 4\n",
    "Implement the perceptron algorithm and run the perceptron algorithm on your\n",
    "simulated data with an $\\eta$ of your choice."
   ]
  },
  {
   "cell_type": "code",
   "execution_count": null,
   "metadata": {
    "id": "Yh-hH5sCOWxm"
   },
   "outputs": [],
   "source": [
    "w = np.zeros((2,)) # feeding the size (2,1) does not work!\n",
    "b = 0 # bias\n",
    "(lst_wb, w, b, t)= perceptron(X, y, w, b, eta = 0.1)"
   ]
  },
  {
   "cell_type": "code",
   "execution_count": null,
   "metadata": {
    "id": "5lhsbUAxOWxm",
    "outputId": "0b40c5a9-920a-4384-de36-d0d12fe36338"
   },
   "outputs": [
    {
     "data": {
      "text/plain": [
       "7"
      ]
     },
     "execution_count": 14,
     "metadata": {
      "tags": []
     },
     "output_type": "execute_result"
    }
   ],
   "source": [
    "t"
   ]
  },
  {
   "cell_type": "code",
   "execution_count": null,
   "metadata": {
    "id": "WLc18W3DOWxm",
    "outputId": "420e2b48-ab46-4161-ab72-12dbb67d9c47"
   },
   "outputs": [
    {
     "data": {
      "text/plain": [
       "array([[10.62713698, 42.29570825],\n",
       "       [19.50412225,  7.55661866],\n",
       "       [10.07576849, 42.18377754],\n",
       "       [10.7127892 , 42.88651607],\n",
       "       [11.63025878, 42.06059539],\n",
       "       [10.20656402, 43.3715476 ],\n",
       "       [ 9.65948193, 43.44847178],\n",
       "       [20.70762264,  9.35479912],\n",
       "       [22.82242984,  7.52227092],\n",
       "       [ 7.20971097, 43.69149187],\n",
       "       [20.59843373,  8.78945275],\n",
       "       [19.66488947,  6.99584013],\n",
       "       [22.08545443, 10.44599537],\n",
       "       [ 9.90674436, 44.49214678],\n",
       "       [20.1653484 ,  8.67433385],\n",
       "       [21.7829659 , 10.17901645],\n",
       "       [20.20476307,  9.13298557],\n",
       "       [18.84640502, 10.92741199],\n",
       "       [11.25677986, 42.83271501],\n",
       "       [10.52373851, 43.15954829]])"
      ]
     },
     "execution_count": 15,
     "metadata": {
      "tags": []
     },
     "output_type": "execute_result"
    }
   ],
   "source": [
    "X"
   ]
  },
  {
   "cell_type": "code",
   "execution_count": null,
   "metadata": {
    "id": "CxqPswffOWxm",
    "outputId": "ca543cf0-4aa7-4e5f-abe0-4fc6f74e40b2"
   },
   "outputs": [
    {
     "data": {
      "text/plain": [
       "[<matplotlib.lines.Line2D at 0x1ed1960d448>]"
      ]
     },
     "execution_count": 16,
     "metadata": {
      "tags": []
     },
     "output_type": "execute_result"
    },
    {
     "data": {
      "image/png": "[encoded data removed]",
      "text/plain": [
       "<Figure size 432x288 with 1 Axes>"
      ]
     },
     "metadata": {
      "needs_background": "light",
      "tags": []
     },
     "output_type": "display_data"
    }
   ],
   "source": [
    "plt.scatter(X_neg[:,0], X_neg[:,1], c= \"blue\")\n",
    "plt.scatter(X_pos[:,0], X_pos[:,1], c= \"red\")\n",
    "# plotting the line\n",
    "a = -w[0]/w[1]\n",
    "m = -b/w[1]\n",
    "x = np.linspace(6,24)\n",
    "y = a*x+m\n",
    "plt.plot(x,y,'g')"
   ]
  },
  {
   "cell_type": "markdown",
   "metadata": {
    "id": "xwpQBQBcOWxn"
   },
   "source": [
    "### Problem 5\n",
    "Study the number of mistakes made by the algorithm in a systematical manner (e.g.\n",
    "vary the number of examples, the size of the maximal margin) with an $\\eta$ of your choice.\n",
    "What do you see?"
   ]
  },
  {
   "cell_type": "markdown",
   "metadata": {
    "id": "J3Cbc6gPOWxn"
   },
   "source": [
    "#### 5.1 varying range of margin"
   ]
  },
  {
   "cell_type": "code",
   "execution_count": null,
   "metadata": {
    "id": "Si56EG8oOWxn"
   },
   "outputs": [],
   "source": [
    "#center_box: The bounding box for each cluster center when centers are generated at random. If this (min,max) is large,\n",
    "# the clusters tend to be far from each other\n",
    "X, y = make_blobs(n_samples=20, centers=2, n_features=2, center_box=(-10.0, 10.0), random_state=0)"
   ]
  },
  {
   "cell_type": "code",
   "execution_count": null,
   "metadata": {
    "id": "r_zeppkNOWxn"
   },
   "outputs": [],
   "source": [
    "for i in range(len(y)):\n",
    "    if y[i]==0:\n",
    "        y[i]= -1"
   ]
  },
  {
   "cell_type": "code",
   "execution_count": null,
   "metadata": {
    "id": "RULtWtY5OWxn"
   },
   "outputs": [],
   "source": [
    "pos=[]\n",
    "neg=[]\n",
    "for i in range(len(y)):\n",
    "    if y[i]==1:\n",
    "        pos.append(i)\n",
    "    else:\n",
    "        neg.append(i)\n",
    "X_neg=X[neg]\n",
    "X_pos=X[pos]"
   ]
  },
  {
   "cell_type": "code",
   "execution_count": null,
   "metadata": {
    "id": "e22lP93kOWxn",
    "outputId": "71b79f1b-2a01-47be-853f-446e92aa6a55"
   },
   "outputs": [
    {
     "data": {
      "text/plain": [
       "Text(0.5, 1.0, 'Generating data using make_blobs with margin 10')"
      ]
     },
     "execution_count": 20,
     "metadata": {
      "tags": []
     },
     "output_type": "execute_result"
    },
    {
     "data": {
      "image/png": "[encoded data removed]",
      "text/plain": [
       "<Figure size 432x288 with 1 Axes>"
      ]
     },
     "metadata": {
      "needs_background": "light",
      "tags": []
     },
     "output_type": "display_data"
    }
   ],
   "source": [
    "plt.scatter(X_neg[:,0], X_neg[:,1], c= \"blue\")\n",
    "plt.scatter(X_pos[:,0], X_pos[:,1], c= \"red\")\n",
    "plt.title('Generating data using make_blobs with margin 10')"
   ]
  },
  {
   "cell_type": "code",
   "execution_count": null,
   "metadata": {
    "id": "QpxImDvpOWxn"
   },
   "outputs": [],
   "source": [
    "#using R^2 in updating b\n",
    "w = np.zeros((2,)) # feeding the size (2,1) does not work!\n",
    "b = 0 # bias\n",
    "(lst_wb, w, b, t)=perceptron(X, y, w, b, eta = 0.1)"
   ]
  },
  {
   "cell_type": "code",
   "execution_count": null,
   "metadata": {
    "id": "PYb4m3S1OWxn",
    "outputId": "ed568ece-7d4a-4917-975d-8fb961d3ac48"
   },
   "outputs": [
    {
     "data": {
      "text/plain": [
       "90"
      ]
     },
     "execution_count": 22,
     "metadata": {
      "tags": []
     },
     "output_type": "execute_result"
    }
   ],
   "source": [
    "t"
   ]
  },
  {
   "cell_type": "code",
   "execution_count": null,
   "metadata": {
    "id": "lnT2n3B9OWxn",
    "outputId": "b8fdef20-d066-4f9d-c3bc-31929cb1d2a8"
   },
   "outputs": [
    {
     "data": {
      "text/plain": [
       "[<matplotlib.lines.Line2D at 0x1ed196faf48>]"
      ]
     },
     "execution_count": 23,
     "metadata": {
      "tags": []
     },
     "output_type": "execute_result"
    },
    {
     "data": {
      "image/png": "[encoded data removed]",
      "text/plain": [
       "<Figure size 432x288 with 1 Axes>"
      ]
     },
     "metadata": {
      "needs_background": "light",
      "tags": []
     },
     "output_type": "display_data"
    }
   ],
   "source": [
    "plt.scatter(X_neg[:,0], X_neg[:,1], c= \"blue\")\n",
    "plt.scatter(X_pos[:,0], X_pos[:,1], c= \"red\")\n",
    "# plotting the line\n",
    "a = -w[0]/w[1]\n",
    "m = -b/w[1]\n",
    "x = np.linspace(-1,24)\n",
    "y = a*x+m\n",
    "plt.plot(x,y,'g')"
   ]
  },
  {
   "cell_type": "markdown",
   "metadata": {
    "id": "F8mQwXrUOWxo"
   },
   "source": [
    "**conclusion:** Number of mistakes increases as range of margin narrows."
   ]
  },
  {
   "cell_type": "markdown",
   "metadata": {
    "id": "XA1_kinNOWxo"
   },
   "source": [
    "#### 5.2 varying the number of examples"
   ]
  },
  {
   "cell_type": "code",
   "execution_count": null,
   "metadata": {
    "id": "bYoofWyXOWxo"
   },
   "outputs": [],
   "source": [
    "#center_box: The bounding box for each cluster center when centers are generated at random. If this (min,max) is large,\n",
    "# the clusters tend to be far from each other\n",
    "X, y = make_blobs(n_samples=10, centers=2, n_features=2, center_box=(-10.0, 10.0), random_state=0)"
   ]
  },
  {
   "cell_type": "code",
   "execution_count": null,
   "metadata": {
    "id": "GouRrXhEOWxo"
   },
   "outputs": [],
   "source": [
    "for i in range(len(y)):\n",
    "    if y[i]==0:\n",
    "        y[i]= -1\n",
    "pos=[]\n",
    "neg=[]\n",
    "for i in range(len(y)):\n",
    "    if y[i]==1:\n",
    "        pos.append(i)\n",
    "    else:\n",
    "        neg.append(i)\n",
    "X_neg=X[neg]\n",
    "X_pos=X[pos]"
   ]
  },
  {
   "cell_type": "code",
   "execution_count": null,
   "metadata": {
    "id": "sibyRxNKOWxo"
   },
   "outputs": [],
   "source": [
    "w = np.zeros((2,)) # feeding the size (2,1) does not work!\n",
    "b = 0 # bias\n",
    "(lst_wb, w, b, t)=perceptron(X, y, w, b, eta = 0.1)"
   ]
  },
  {
   "cell_type": "code",
   "execution_count": null,
   "metadata": {
    "id": "gHjCHV-UOWxo",
    "outputId": "b697bc6f-c4fa-4f36-a6a9-06bb8f88e2df"
   },
   "outputs": [
    {
     "data": {
      "text/plain": [
       "9"
      ]
     },
     "execution_count": 27,
     "metadata": {
      "tags": []
     },
     "output_type": "execute_result"
    }
   ],
   "source": [
    "t"
   ]
  },
  {
   "cell_type": "code",
   "execution_count": null,
   "metadata": {
    "id": "yvBqMMcgOWxo"
   },
   "outputs": [],
   "source": [
    "X, y = make_blobs(n_samples=40, centers=2, n_features=2, center_box=(-10.0, 10.0), random_state=0)"
   ]
  },
  {
   "cell_type": "code",
   "execution_count": null,
   "metadata": {
    "id": "Lf-bNtzWOWxo"
   },
   "outputs": [],
   "source": [
    "for i in range(len(y)):\n",
    "    if y[i]==0:\n",
    "        y[i]= -1\n",
    "pos=[]\n",
    "neg=[]\n",
    "for i in range(len(y)):\n",
    "    if y[i]==1:\n",
    "        pos.append(i)\n",
    "    else:\n",
    "        neg.append(i)\n",
    "X_neg=X[neg]\n",
    "X_pos=X[pos]"
   ]
  },
  {
   "cell_type": "code",
   "execution_count": null,
   "metadata": {
    "id": "ysNNcuDROWxo"
   },
   "outputs": [],
   "source": [
    "w = np.zeros((2,)) # feeding the size (2,1) does not work!\n",
    "b = 0 # bias\n",
    "(lst_wb, w, b, t)=perceptron(X, y, w, b, eta = 0.1)"
   ]
  },
  {
   "cell_type": "code",
   "execution_count": null,
   "metadata": {
    "id": "5P3Jmd29OWxo",
    "outputId": "9fbe7ee1-7fc0-48e4-c6d5-d8f096cc2658"
   },
   "outputs": [
    {
     "data": {
      "text/plain": [
       "15"
      ]
     },
     "execution_count": 31,
     "metadata": {
      "tags": []
     },
     "output_type": "execute_result"
    }
   ],
   "source": [
    "t"
   ]
  },
  {
   "cell_type": "code",
   "execution_count": null,
   "metadata": {
    "id": "AE-7DnO2OWxo",
    "outputId": "83ca6a06-6944-4681-9621-5d735046c329"
   },
   "outputs": [
    {
     "data": {
      "text/plain": [
       "[<matplotlib.lines.Line2D at 0x1ed1a73df08>]"
      ]
     },
     "execution_count": 32,
     "metadata": {
      "tags": []
     },
     "output_type": "execute_result"
    },
    {
     "data": {
      "image/png": "[encoded data removed]",
      "text/plain": [
       "<Figure size 432x288 with 1 Axes>"
      ]
     },
     "metadata": {
      "needs_background": "light",
      "tags": []
     },
     "output_type": "display_data"
    }
   ],
   "source": [
    "plt.scatter(X_neg[:,0], X_neg[:,1], c= \"blue\")\n",
    "plt.scatter(X_pos[:,0], X_pos[:,1], c= \"red\")\n",
    "# plotting the line\n",
    "a = -w[0]/w[1]\n",
    "m = -b/w[1]\n",
    "x = np.linspace(-1,24)\n",
    "y = a*x+m\n",
    "plt.plot(x,y,'g')"
   ]
  },
  {
   "cell_type": "code",
   "execution_count": null,
   "metadata": {
    "id": "TWCiyDgvOWxo"
   },
   "outputs": [],
   "source": [
    "#center_box: The bounding box for each cluster center when centers are generated at random. If this (min,max) is large,\n",
    "# the clusters tend to be far from each other\n",
    "X, y = make_blobs(n_samples=20, centers=2, n_features=2, center_box=(-10.0, 10.0), random_state = 4)"
   ]
  },
  {
   "cell_type": "code",
   "execution_count": null,
   "metadata": {
    "id": "EIYwEZ6NOWxo"
   },
   "outputs": [],
   "source": [
    "for i in range(len(y)):\n",
    "    if y[i]==0:\n",
    "        y[i]= -1\n",
    "pos=[]\n",
    "neg=[]\n",
    "for i in range(len(y)):\n",
    "    if y[i]==1:\n",
    "        pos.append(i)\n",
    "    else:\n",
    "        neg.append(i)\n",
    "X_neg=X[neg]\n",
    "X_pos=X[pos]"
   ]
  },
  {
   "cell_type": "code",
   "execution_count": null,
   "metadata": {
    "id": "KGp2YId8OWxo"
   },
   "outputs": [],
   "source": [
    "w = np.zeros((2,)) # feeding the size (2,1) does not work!\n",
    "b = 0 # bias\n",
    "(lst_wb, w, b, t)=perceptron(X, y, w, b, eta = 0.1)"
   ]
  },
  {
   "cell_type": "code",
   "execution_count": null,
   "metadata": {
    "id": "Cuv1F-ruOWxp",
    "outputId": "dcc9f8fd-b9bf-4f22-f7ca-db1a43cdc964"
   },
   "outputs": [
    {
     "data": {
      "text/plain": [
       "5648"
      ]
     },
     "execution_count": 39,
     "metadata": {
      "tags": []
     },
     "output_type": "execute_result"
    }
   ],
   "source": [
    "t"
   ]
  },
  {
   "cell_type": "code",
   "execution_count": null,
   "metadata": {
    "id": "kkTve83IOWxp",
    "outputId": "a83d4a1f-6c5d-42fe-fed2-a7d5bbf18b5a"
   },
   "outputs": [
    {
     "data": {
      "text/plain": [
       "[<matplotlib.lines.Line2D at 0x1ed2e5ca888>]"
      ]
     },
     "execution_count": 40,
     "metadata": {
      "tags": []
     },
     "output_type": "execute_result"
    },
    {
     "data": {
      "image/png": "[encoded data removed]",
      "text/plain": [
       "<Figure size 432x288 with 1 Axes>"
      ]
     },
     "metadata": {
      "needs_background": "light",
      "tags": []
     },
     "output_type": "display_data"
    }
   ],
   "source": [
    "plt.scatter(X_neg[:,0], X_neg[:,1], c= \"blue\")\n",
    "plt.scatter(X_pos[:,0], X_pos[:,1], c= \"red\")\n",
    "# plotting the line\n",
    "a = -w[0]/w[1]\n",
    "m = -b/w[1]\n",
    "x = np.linspace(-6,24)\n",
    "y = a*x+m\n",
    "plt.plot(x,y,'g')"
   ]
  },
  {
   "cell_type": "markdown",
   "metadata": {
    "id": "_RYrD-KfOWxp"
   },
   "source": [
    "### Problem 6\n",
    "Generate a plot of your data and all the boundary lines. You should plot the points\n",
    "$𝑥_i$ and the boundary after each iteration of the inner loop.\n",
    "(Hint: You need to solve the equation of the boundary line for one of the 𝑥 coordinates\n",
    "first, in order to plot the boundary line)"
   ]
  },
  {
   "cell_type": "code",
   "execution_count": null,
   "metadata": {
    "id": "fqmsf0VYOWxp"
   },
   "outputs": [],
   "source": [
    "#center_box: The bounding box for each cluster center when centers are generated at random. If this (min,max) is large,\n",
    "# the clusters tend to be far from each other\n",
    "X, y = make_blobs(n_samples=10, centers=2, n_features=2, center_box=(-10.0, 10.0), random_state = 0)"
   ]
  },
  {
   "cell_type": "code",
   "execution_count": null,
   "metadata": {
    "id": "YjPZbq_QOWxp",
    "outputId": "5e6692c9-03c8-4db1-f341-1e7f59540eab"
   },
   "outputs": [
    {
     "data": {
      "text/plain": [
       "array([[ 1.12031365,  5.75806083],\n",
       "       [-0.49772229,  1.55128226],\n",
       "       [ 1.9263585 ,  4.15243012],\n",
       "       [ 2.49913075,  1.23133799],\n",
       "       [ 3.54934659,  0.6925054 ],\n",
       "       [ 1.7373078 ,  4.42546234],\n",
       "       [ 2.91970372,  0.15549864],\n",
       "       [ 2.84382807,  3.32650945],\n",
       "       [ 0.87305123,  4.71438583],\n",
       "       [ 2.36833522,  0.04356792]])"
      ]
     },
     "execution_count": 48,
     "metadata": {
      "tags": []
     },
     "output_type": "execute_result"
    }
   ],
   "source": [
    "X"
   ]
  },
  {
   "cell_type": "code",
   "execution_count": null,
   "metadata": {
    "id": "yUB6k29NOWxp"
   },
   "outputs": [],
   "source": [
    "for i in range(len(y)):\n",
    "    if y[i]==0:\n",
    "        y[i]= -1\n",
    "pos=[]\n",
    "neg=[]\n",
    "for i in range(len(y)):\n",
    "    if y[i]==1:\n",
    "        pos.append(i)\n",
    "    else:\n",
    "        neg.append(i)\n",
    "X_neg=X[neg]\n",
    "X_pos=X[pos]"
   ]
  },
  {
   "cell_type": "code",
   "execution_count": null,
   "metadata": {
    "id": "9CjIkcgpOWxp"
   },
   "outputs": [],
   "source": [
    "w = np.zeros((2,)) # feeding the size (2,1) does not work!\n",
    "b = 0 # bias\n",
    "(lst_wb, w, b, t)=perceptron(X, y, w, b, eta = 0.1)"
   ]
  },
  {
   "cell_type": "code",
   "execution_count": null,
   "metadata": {
    "id": "pMWGV8idOWxp"
   },
   "outputs": [],
   "source": [
    "def plot_per(X_pos, X_neg, lst_wb):\n",
    "    for i in range(len(lst_wb)):\n",
    "        plt.scatter(X_neg[:,0], X_neg[:,1], c= \"blue\")\n",
    "        plt.scatter(X_pos[:,0], X_pos[:,1], c= \"red\")\n",
    "        w, b = lst_wb[i]\n",
    "        a = -w[0]/w[1]\n",
    "        m = -b/w[1]\n",
    "        x = np.linspace(-1,6)\n",
    "        y = a*x+m\n",
    "        plt.plot(x,y,'g')\n",
    "        plt.show()"
   ]
  },
  {
   "cell_type": "code",
   "execution_count": null,
   "metadata": {
    "id": "u6YTk0WMOWxp",
    "outputId": "7c940590-07c0-48aa-958e-215b09028d6a"
   },
   "outputs": [
    {
     "data": {
      "image/png": "[encoded data removed]",
      "text/plain": [
       "<Figure size 432x288 with 1 Axes>"
      ]
     },
     "metadata": {
      "needs_background": "light",
      "tags": []
     },
     "output_type": "display_data"
    },
    {
     "data": {
      "image/png": "[encoded data removed]",
      "text/plain": [
       "<Figure size 432x288 with 1 Axes>"
      ]
     },
     "metadata": {
      "needs_background": "light",
      "tags": []
     },
     "output_type": "display_data"
    },
    {
     "data": {
      "image/png": "[encoded data removed]",
      "text/plain": [
       "<Figure size 432x288 with 1 Axes>"
      ]
     },
     "metadata": {
      "needs_background": "light",
      "tags": []
     },
     "output_type": "display_data"
    },
    {
     "data": {
      "image/png": "[encoded data removed]",
      "text/plain": [
       "<Figure size 432x288 with 1 Axes>"
      ]
     },
     "metadata": {
      "needs_background": "light",
      "tags": []
     },
     "output_type": "display_data"
    },
    {
     "data": {
      "image/png": "[encoded data removed]",
      "text/plain": [
       "<Figure size 432x288 with 1 Axes>"
      ]
     },
     "metadata": {
      "needs_background": "light",
      "tags": []
     },
     "output_type": "display_data"
    },
    {
     "data": {
      "image/png": "[encoded data removed]",
      "text/plain": [
       "<Figure size 432x288 with 1 Axes>"
      ]
     },
     "metadata": {
      "needs_background": "light",
      "tags": []
     },
     "output_type": "display_data"
    },
    {
     "data": {
      "image/png": "[encoded data removed]",
      "text/plain": [
       "<Figure size 432x288 with 1 Axes>"
      ]
     },
     "metadata": {
      "needs_background": "light",
      "tags": []
     },
     "output_type": "display_data"
    },
    {
     "data": {
      "image/png": "[encoded data removed]",
      "text/plain": [
       "<Figure size 432x288 with 1 Axes>"
      ]
     },
     "metadata": {
      "needs_background": "light",
      "tags": []
     },
     "output_type": "display_data"
    },
    {
     "data": {
      "image/png": "[encoded data removed]",
      "text/plain": [
       "<Figure size 432x288 with 1 Axes>"
      ]
     },
     "metadata": {
      "needs_background": "light",
      "tags": []
     },
     "output_type": "display_data"
    }
   ],
   "source": [
    "plot_per(X_pos, X_neg, lst_wb)"
   ]
  },
  {
   "cell_type": "code",
   "execution_count": null,
   "metadata": {
    "id": "O1GGH974OWxp"
   },
   "outputs": [],
   "source": []
  }
 ],
 "metadata": {
  "colab": {
   "name": "Assig1_perceptron_Huyen.ipynb",
   "provenance": []
  },
  "kernelspec": {
   "display_name": "Python 3",
   "language": "python",
   "name": "python3"
  },
  "language_info": {
   "codemirror_mode": {
    "name": "ipython",
    "version": 3
   },
   "file_extension": ".py",
   "mimetype": "text/x-python",
   "name": "python",
   "nbconvert_exporter": "python",
   "pygments_lexer": "ipython3",
   "version": "3.7.6"
  }
 },
 "nbformat": 4,
 "nbformat_minor": 1
}
